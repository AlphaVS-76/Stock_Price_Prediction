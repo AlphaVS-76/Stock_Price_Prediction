{
  "nbformat": 4,
  "nbformat_minor": 0,
  "metadata": {
    "colab": {
      "name": "Stock_price_pred.ipynb",
      "provenance": [],
      "collapsed_sections": [],
      "authorship_tag": "ABX9TyOQ9gmqscuBHYK+l+s7HBtH",
      "include_colab_link": true
    },
    "kernelspec": {
      "name": "python3",
      "display_name": "Python 3"
    },
    "language_info": {
      "name": "python"
    }
  },
  "cells": [
    {
      "cell_type": "markdown",
      "metadata": {
        "id": "view-in-github",
        "colab_type": "text"
      },
      "source": [
        "<a href=\"https://colab.research.google.com/github/AlphaVS-76/Stock_Price_Prediction/blob/main/Stock_price_pred.ipynb\" target=\"_parent\"><img src=\"https://colab.research.google.com/assets/colab-badge.svg\" alt=\"Open In Colab\"/></a>"
      ]
    },
    {
      "cell_type": "code",
      "execution_count": 53,
      "metadata": {
        "id": "LMYwiBKAt5-S"
      },
      "outputs": [],
      "source": [
        "# importing all the necessary libraries and modules\n",
        "\n",
        "import numpy as np\n",
        "import seaborn as sns\n",
        "import matplotlib.pyplot as plt\n",
        "%matplotlib inline\n",
        "import pandas as pd\n",
        "from sklearn.model_selection import train_test_split\n",
        "from sklearn.linear_model import LinearRegression\n",
        "from sklearn.metrics import mean_squared_error, r2_score\n",
        "from sklearn.linear_model import Lasso, Ridge\n",
        "from sklearn.svm import SVR\n",
        "from sklearn.model_selection import GridSearchCV\n",
        "\n",
        "# install the yfinance package before importing it, else you'll get an error\n",
        "import yfinance as yf"
      ]
    },
    {
      "cell_type": "code",
      "source": [
        "pip install yfinance"
      ],
      "metadata": {
        "colab": {
          "base_uri": "https://localhost:8080/"
        },
        "id": "_CsInLiCuVC7",
        "outputId": "2f1bb59f-6302-4651-9815-b3e03415a03f"
      },
      "execution_count": 2,
      "outputs": [
        {
          "output_type": "stream",
          "name": "stdout",
          "text": [
            "Collecting yfinance\n",
            "  Downloading yfinance-0.1.69-py2.py3-none-any.whl (26 kB)\n",
            "Requirement already satisfied: numpy>=1.15 in /usr/local/lib/python3.7/dist-packages (from yfinance) (1.19.5)\n",
            "Requirement already satisfied: pandas>=0.24 in /usr/local/lib/python3.7/dist-packages (from yfinance) (1.1.5)\n",
            "Collecting lxml>=4.5.1\n",
            "  Downloading lxml-4.7.1-cp37-cp37m-manylinux_2_17_x86_64.manylinux2014_x86_64.manylinux_2_24_x86_64.whl (6.4 MB)\n",
            "\u001b[K     |████████████████████████████████| 6.4 MB 10.4 MB/s \n",
            "\u001b[?25hRequirement already satisfied: multitasking>=0.0.7 in /usr/local/lib/python3.7/dist-packages (from yfinance) (0.0.10)\n",
            "Collecting requests>=2.26\n",
            "  Downloading requests-2.27.1-py2.py3-none-any.whl (63 kB)\n",
            "\u001b[K     |████████████████████████████████| 63 kB 1.9 MB/s \n",
            "\u001b[?25hRequirement already satisfied: python-dateutil>=2.7.3 in /usr/local/lib/python3.7/dist-packages (from pandas>=0.24->yfinance) (2.8.2)\n",
            "Requirement already satisfied: pytz>=2017.2 in /usr/local/lib/python3.7/dist-packages (from pandas>=0.24->yfinance) (2018.9)\n",
            "Requirement already satisfied: six>=1.5 in /usr/local/lib/python3.7/dist-packages (from python-dateutil>=2.7.3->pandas>=0.24->yfinance) (1.15.0)\n",
            "Requirement already satisfied: idna<4,>=2.5 in /usr/local/lib/python3.7/dist-packages (from requests>=2.26->yfinance) (2.10)\n",
            "Requirement already satisfied: certifi>=2017.4.17 in /usr/local/lib/python3.7/dist-packages (from requests>=2.26->yfinance) (2021.10.8)\n",
            "Requirement already satisfied: urllib3<1.27,>=1.21.1 in /usr/local/lib/python3.7/dist-packages (from requests>=2.26->yfinance) (1.24.3)\n",
            "Requirement already satisfied: charset-normalizer~=2.0.0 in /usr/local/lib/python3.7/dist-packages (from requests>=2.26->yfinance) (2.0.10)\n",
            "Installing collected packages: requests, lxml, yfinance\n",
            "  Attempting uninstall: requests\n",
            "    Found existing installation: requests 2.23.0\n",
            "    Uninstalling requests-2.23.0:\n",
            "      Successfully uninstalled requests-2.23.0\n",
            "  Attempting uninstall: lxml\n",
            "    Found existing installation: lxml 4.2.6\n",
            "    Uninstalling lxml-4.2.6:\n",
            "      Successfully uninstalled lxml-4.2.6\n",
            "\u001b[31mERROR: pip's dependency resolver does not currently take into account all the packages that are installed. This behaviour is the source of the following dependency conflicts.\n",
            "google-colab 1.0.0 requires requests~=2.23.0, but you have requests 2.27.1 which is incompatible.\n",
            "datascience 0.10.6 requires folium==0.2.1, but you have folium 0.8.3 which is incompatible.\u001b[0m\n",
            "Successfully installed lxml-4.7.1 requests-2.27.1 yfinance-0.1.69\n"
          ]
        }
      ]
    },
    {
      "cell_type": "code",
      "source": [
        "stocks = input(\"Enter the Share code: \")\n",
        "data = yf.download(stocks, \"2015-01-01\", \"2022-01-01\", auto_adjust=True)\n",
        "data.head"
      ],
      "metadata": {
        "colab": {
          "base_uri": "https://localhost:8080/"
        },
        "id": "8FF8GHxaurBl",
        "outputId": "cfcf1b6b-e134-4138-aa0b-976532214153"
      },
      "execution_count": 4,
      "outputs": [
        {
          "output_type": "stream",
          "name": "stdout",
          "text": [
            "Enter the Share code: GC=F\n",
            "[*********************100%***********************]  1 of 1 completed\n"
          ]
        },
        {
          "output_type": "execute_result",
          "data": {
            "text/plain": [
              "<bound method NDFrame.head of                    Open         High          Low        Close  Volume\n",
              "Date                                                                  \n",
              "2015-01-02  1184.000000  1194.500000  1169.500000  1186.000000     138\n",
              "2015-01-05  1180.300049  1206.900024  1180.099976  1203.900024     470\n",
              "2015-01-06  1203.500000  1220.000000  1203.500000  1219.300049      97\n",
              "2015-01-07  1219.199951  1219.199951  1210.599976  1210.599976      29\n",
              "2015-01-08  1207.000000  1215.699951  1206.300049  1208.400024      92\n",
              "...                 ...          ...          ...          ...     ...\n",
              "2021-12-27  1810.000000  1812.099976  1807.000000  1808.099976     150\n",
              "2021-12-28  1812.000000  1818.000000  1805.500000  1810.199951     146\n",
              "2021-12-29  1803.199951  1805.099976  1791.400024  1805.099976     623\n",
              "2021-12-30  1801.699951  1816.000000  1796.000000  1812.699951     306\n",
              "2021-12-31  1825.099976  1827.800049  1821.400024  1827.500000      80\n",
              "\n",
              "[1761 rows x 5 columns]>"
            ]
          },
          "metadata": {},
          "execution_count": 4
        }
      ]
    },
    {
      "cell_type": "code",
      "source": [
        "data.Close.plot(figsize=(10, 7), color=\"b\")\n",
        "\n",
        "plt.ylabel(\"{} Price\".format(stocks))\n",
        "plt.xlabel(\"{} Interval\".format(stocks))\n",
        "plt.title(\"{} Chart\".format(stocks))\n",
        "plt.show"
      ],
      "metadata": {
        "colab": {
          "base_uri": "https://localhost:8080/",
          "height": 451
        },
        "id": "Yp24qqwHyBa2",
        "outputId": "901c46e6-da66-462d-f5bb-d41e969202b6"
      },
      "execution_count": 5,
      "outputs": [
        {
          "output_type": "execute_result",
          "data": {
            "text/plain": [
              "<function matplotlib.pyplot.show>"
            ]
          },
          "metadata": {},
          "execution_count": 5
        },
        {
          "output_type": "display_data",
          "data": {
            "image/png": "[encoded data removed]",
            "text/plain": [
              "<Figure size 720x504 with 1 Axes>"
            ]
          },
          "metadata": {
            "needs_background": "light"
          }
        }
      ]
    },
    {
      "cell_type": "code",
      "source": [
        "data.describe"
      ],
      "metadata": {
        "colab": {
          "base_uri": "https://localhost:8080/"
        },
        "id": "QETIN75P6Wz1",
        "outputId": "4fddaa20-b668-46d9-d75e-dd404359e654"
      },
      "execution_count": 6,
      "outputs": [
        {
          "output_type": "execute_result",
          "data": {
            "text/plain": [
              "<bound method NDFrame.describe of                    Open         High          Low        Close  Volume\n",
              "Date                                                                  \n",
              "2015-01-02  1184.000000  1194.500000  1169.500000  1186.000000     138\n",
              "2015-01-05  1180.300049  1206.900024  1180.099976  1203.900024     470\n",
              "2015-01-06  1203.500000  1220.000000  1203.500000  1219.300049      97\n",
              "2015-01-07  1219.199951  1219.199951  1210.599976  1210.599976      29\n",
              "2015-01-08  1207.000000  1215.699951  1206.300049  1208.400024      92\n",
              "...                 ...          ...          ...          ...     ...\n",
              "2021-12-27  1810.000000  1812.099976  1807.000000  1808.099976     150\n",
              "2021-12-28  1812.000000  1818.000000  1805.500000  1810.199951     146\n",
              "2021-12-29  1803.199951  1805.099976  1791.400024  1805.099976     623\n",
              "2021-12-30  1801.699951  1816.000000  1796.000000  1812.699951     306\n",
              "2021-12-31  1825.099976  1827.800049  1821.400024  1827.500000      80\n",
              "\n",
              "[1761 rows x 5 columns]>"
            ]
          },
          "metadata": {},
          "execution_count": 6
        }
      ]
    },
    {
      "cell_type": "code",
      "source": [
        "#understanding the data\n",
        "\n",
        "sns.displot(data[\"High\"], kind=\"kde\")\n",
        "sns.displot(data[\"Low\"], kind=\"kde\")"
      ],
      "metadata": {
        "colab": {
          "base_uri": "https://localhost:8080/",
          "height": 740
        },
        "id": "SUU84usp5zKM",
        "outputId": "54e56e52-56a0-4a05-d1aa-139070dc43e3"
      },
      "execution_count": 7,
      "outputs": [
        {
          "output_type": "execute_result",
          "data": {
            "text/plain": [
              "<seaborn.axisgrid.FacetGrid at 0x7f09140c7d10>"
            ]
          },
          "metadata": {},
          "execution_count": 7
        },
        {
          "output_type": "display_data",
          "data": {
            "image/png": "[encoded data removed]",
            "text/plain": [
              "<Figure size 360x360 with 1 Axes>"
            ]
          },
          "metadata": {
            "needs_background": "light"
          }
        },
        {
          "output_type": "display_data",
          "data": {
            "image/png": "[encoded data removed]",
            "text/plain": [
              "<Figure size 360x360 with 1 Axes>"
            ]
          },
          "metadata": {
            "needs_background": "light"
          }
        }
      ]
    },
    {
      "cell_type": "markdown",
      "source": [
        "What have we learnt:-\n",
        "\n",
        "- Distribution over time\n",
        "- Data is extremely non-linear"
      ],
      "metadata": {
        "id": "VAkg3TuI62zS"
      }
    },
    {
      "cell_type": "code",
      "source": [
        "x = data.drop(\"Close\", axis = 1)\n",
        "y = data[\"Close\"]\n",
        "\n",
        "#splitting the data into training and validating datasets\n",
        "\n",
        "x_train, x_val, y_train, y_val = train_test_split(x, y, test_size=0.2, random_state=0)\n",
        "# test size is 0.2 as we are using 20% data for validating the model and the rest for training\n",
        "\n",
        "print(x_train.shape)\n",
        "print(x_val.shape)\n",
        "print(y_train.shape)\n",
        "print(y_val.shape)"
      ],
      "metadata": {
        "colab": {
          "base_uri": "https://localhost:8080/"
        },
        "id": "1QAzqMt98tbz",
        "outputId": "56ec0df3-af54-4beb-95e0-f9c6f0104784"
      },
      "execution_count": 30,
      "outputs": [
        {
          "output_type": "stream",
          "name": "stdout",
          "text": [
            "(1408, 4)\n",
            "(353, 4)\n",
            "(1408,)\n",
            "(353,)\n"
          ]
        }
      ]
    },
    {
      "cell_type": "code",
      "source": [
        "lr = LinearRegression()\n",
        "lr.fit(x_train, y_train)\n",
        "pred1 = lr.predict(x_val)\n",
        "\n",
        "pred1"
      ],
      "metadata": {
        "colab": {
          "base_uri": "https://localhost:8080/"
        },
        "id": "NI80eV-6MVk2",
        "outputId": "2b8e2393-329c-46df-f2a2-ba40648645ab"
      },
      "execution_count": 45,
      "outputs": [
        {
          "output_type": "execute_result",
          "data": {
            "text/plain": [
              "array([1519.18406906, 1309.06963553, 1336.35042871, 1248.2161587 ,\n",
              "       1710.85426183, 1670.01005403, 1277.2078924 , 1275.52364426,\n",
              "       1754.05294294, 1825.03625218, 1097.0485035 , 1059.33111108,\n",
              "       1825.73889283, 1105.50219812, 1063.62434871, 1304.91262356,\n",
              "       1805.31057524, 1717.56906591, 1154.51924967, 1168.06252233,\n",
              "       1407.19664109, 1306.97055758, 1227.86295181, 1576.18260806,\n",
              "       1825.51524167, 1546.29514597, 1521.47570397, 1131.19546165,\n",
              "       1275.35774719, 1204.9638062 , 1572.20778343, 1428.78194811,\n",
              "       1283.51915688, 1966.24163183, 1152.48903921, 1897.64286787,\n",
              "       1315.62373002, 1253.12547415, 1157.52130741, 1334.59458723,\n",
              "       1199.53043666, 1249.29284676, 1411.04404266, 1780.72773112,\n",
              "       1282.60307526, 1890.15310653, 1146.58083433, 1784.1519157 ,\n",
              "       1328.45362898, 1340.78035189, 1278.83359323, 1085.70901196,\n",
              "       1812.24899371, 1800.06618566, 1371.14379743, 1462.67017284,\n",
              "       1081.21337435, 1261.56142915, 1218.55891584, 1303.58565058,\n",
              "       1347.16251569, 1712.71255127, 1258.64163467, 1195.16953755,\n",
              "       1268.52524708, 1211.25674729, 1567.14740094, 1279.2350409 ,\n",
              "       1770.64290314, 1078.37772451, 1265.53520035, 1154.74713926,\n",
              "       2033.90044552, 1198.94285819, 1254.6247235 , 1181.83429271,\n",
              "       1419.22769428, 1078.61534202, 1200.817526  , 1787.54581975,\n",
              "       1220.81828838, 1235.15541618, 1061.78532493, 1277.14183341,\n",
              "       1090.76433009, 1720.92581065, 1539.06197885, 1330.67042587,\n",
              "       2027.50342595, 1277.00358103, 1287.59133564, 1193.77293099,\n",
              "       1738.65568794, 1115.83419502, 1328.7005333 , 1258.52941062,\n",
              "       1493.25933697, 1294.33446339, 1174.26668022, 1319.42248887,\n",
              "       1348.11381909, 1129.67576115, 1419.44293565, 1179.50208316,\n",
              "       1352.49850132, 1235.84629073, 1781.7496376 , 1588.18866242,\n",
              "       1258.7946698 , 1350.58390114, 1501.32829454, 1800.10025235,\n",
              "       1241.75075012, 1729.17672778, 1253.4341973 , 1862.87864927,\n",
              "       1221.81431358, 1504.79731272, 1186.63791335, 1306.48344361,\n",
              "       1188.55332515, 1767.57894914, 1086.41174286, 1767.35017094,\n",
              "       1196.35471313, 1208.01794803, 1509.20314775, 1245.0870394 ,\n",
              "       1268.610971  , 1775.32164624, 1266.70738253, 1196.13920029,\n",
              "       1206.10659572, 1757.03312295, 1267.52925662, 1732.31900419,\n",
              "       1573.37753972, 1882.11081041, 1881.01351676, 1227.95193267,\n",
              "       1905.03429075, 1781.96450934, 1278.70317049, 1277.77092986,\n",
              "       1323.44057679, 1264.24632163, 1564.41653351, 1213.13814203,\n",
              "       1880.27983256, 1873.77255556, 1263.62061613, 1429.6390096 ,\n",
              "       1125.52452654, 1230.54457214, 1245.7989703 , 1213.5829695 ,\n",
              "       1523.0806464 , 1234.42517857, 1164.02657025, 1793.07148543,\n",
              "       1217.42814327, 1198.24652737, 1206.17188102, 1183.31559063,\n",
              "       1245.48103545, 1334.63701091, 1798.3071518 , 1812.15732827,\n",
              "       1651.38543924, 1731.57092095, 1090.64356529, 1105.55305279,\n",
              "       1268.81032469, 1874.24944086, 1320.80498572, 1297.93029655,\n",
              "       1261.50447314, 1918.97595977, 1187.75402033, 1321.28738855,\n",
              "       1253.8034098 , 1675.14034656, 1502.34164804, 1505.55740218,\n",
              "       1234.75788333, 1276.85141135, 1661.69895862, 1709.18253248,\n",
              "       1186.23322296, 1875.04356996, 1837.29523966, 1729.21346651,\n",
              "       1751.90658273, 1333.29211095, 1390.75914472, 1253.05053262,\n",
              "       1254.4445326 , 1427.19690623, 1185.39348627, 1178.15177678,\n",
              "       1289.27662185, 1475.74685367, 1782.33384294, 1171.77106342,\n",
              "       1085.70645261, 1290.23398127, 1704.17128158, 1351.34022219,\n",
              "       1892.3707955 , 1508.07958126, 1243.56287758, 1195.49742444,\n",
              "       1191.10251963, 1891.68026752, 1220.93765762, 1334.00697733,\n",
              "       1435.79433115, 1176.8442967 , 1283.30526545, 1286.19466833,\n",
              "       1874.30082931, 1289.58189444, 1197.09636106, 1858.84401297,\n",
              "       1727.26474315, 1286.38919793, 1277.40854035, 1268.91737659,\n",
              "       1210.11931491, 1161.85609132, 1953.40352345, 1319.64133365,\n",
              "       1555.82296259, 1296.34949887, 1224.79355539, 1189.62103155,\n",
              "       1187.15161307, 1194.83040208, 1120.0073194 , 1261.14298536,\n",
              "       1148.08123764, 1330.39918145, 1215.52256324, 1343.7156033 ,\n",
              "       1256.79541066, 1786.04743992, 1286.99486622, 1725.54139086,\n",
              "       1226.38760342, 1340.01923979, 1231.34841451, 1259.745727  ,\n",
              "       1089.35666844, 1331.18039563, 1317.81847713, 1299.53022513,\n",
              "       1327.49209811, 1493.39764473, 1796.03307173, 1208.65747964,\n",
              "       1079.83022576, 1325.60347632, 1564.77861598, 1199.56666725,\n",
              "       1230.19386886, 1326.01380162, 1772.99084004, 1263.75644362,\n",
              "       1351.79969992, 1805.81751924, 1864.84438594, 1224.19355763,\n",
              "       1253.02495284, 1854.8716864 , 1213.11022771, 1173.27760967,\n",
              "       1266.22230655, 1083.43415567, 1859.85462621, 1318.91996792,\n",
              "       1404.44750991, 1294.18423663, 1165.53031853, 1663.76778411,\n",
              "       1257.1079238 , 1115.85469625, 1265.95207657, 1202.11045589,\n",
              "       1834.28190783, 1200.24350187, 1221.91014733, 1463.6551696 ,\n",
              "       1615.04429318, 1188.42767033, 1694.51413751, 1393.75382654,\n",
              "       1282.09985699, 1213.01891434, 1238.46777212, 1327.13678684,\n",
              "       1763.85791186, 1281.01566626, 1191.0328333 , 1280.45701326,\n",
              "       1835.55973629, 1573.84708212, 1874.50380883, 1117.40250173,\n",
              "       1736.08255263, 1698.38512172, 1310.54297543, 1751.14806653,\n",
              "       1477.29993446, 1284.9702447 , 1482.52378367, 1314.35082705,\n",
              "       1326.2175353 , 1311.68899878, 1281.24181308, 1276.85108275,\n",
              "       1268.87092696, 1193.08119715, 1869.31024534, 1120.53263833,\n",
              "       1732.91638844, 1319.76677268, 1113.10063146, 1069.83026735,\n",
              "       1285.69856225, 1914.56168759, 1854.6875519 , 1874.65356777,\n",
              "       1561.48767043, 1641.79716204, 1284.67321635, 1180.54781464,\n",
              "       1351.06945495, 1216.40915691, 1147.97830615, 1077.20565598,\n",
              "       1807.00153161, 1265.81513745, 1225.99545368, 1755.14124927,\n",
              "       1219.78227663, 1241.05691086, 1940.30106948, 1233.35313843,\n",
              "       1284.04388941, 1201.62574877, 1257.71927691, 1834.29631564,\n",
              "       1293.76959448])"
            ]
          },
          "metadata": {},
          "execution_count": 45
        }
      ]
    },
    {
      "cell_type": "code",
      "source": [
        "y_val"
      ],
      "metadata": {
        "colab": {
          "base_uri": "https://localhost:8080/"
        },
        "id": "5id67terOdjz",
        "outputId": "848891d2-1e62-4fc9-82b4-625d428705a2"
      },
      "execution_count": 10,
      "outputs": [
        {
          "output_type": "execute_result",
          "data": {
            "text/plain": [
              "Date\n",
              "2019-08-23    1526.599976\n",
              "2017-08-30    1308.099976\n",
              "2016-08-22    1337.699951\n",
              "2017-03-24    1248.199951\n",
              "2020-05-08    1709.900024\n",
              "                 ...     \n",
              "2019-03-04    1284.800049\n",
              "2018-11-12    1201.300049\n",
              "2017-02-27    1257.400024\n",
              "2021-05-07    1831.099976\n",
              "2019-03-14    1293.400024\n",
              "Name: Close, Length: 353, dtype: float64"
            ]
          },
          "metadata": {},
          "execution_count": 10
        }
      ]
    },
    {
      "cell_type": "code",
      "source": [
        ""
      ],
      "metadata": {
        "id": "qlXvYQJs2OTC"
      },
      "execution_count": null,
      "outputs": []
    },
    {
      "cell_type": "markdown",
      "source": [
        "predicted = 1519.184\n",
        "\n",
        "actual = 1526.599\n",
        "\n",
        "The predicted value is pretty close but not accurate.\n",
        "\n",
        "We are going to use MSE (for CF of Linear Regression)\n",
        "\n",
        "MSE is a measure of the quality of a prediction, it is always positive, and values which are closer to zero are better\n",
        "\n",
        "Then we'll be using RMSE-> A standard way to measure the error of a model-> sqrt(MSE)"
      ],
      "metadata": {
        "id": "5u9Sy03GOhpl"
      }
    },
    {
      "cell_type": "code",
      "source": [
        "def calc_metrics(actual, predicted):\n",
        "  mse = mean_squared_error(actual, predicted)\n",
        "  rmse = np.sqrt(mse)\n",
        "  r2s = r2_score(actual, predicted)\n",
        "\n",
        "  print(\"MSE:\", mse)\n",
        "  print(\"RMSE:\", rmse)\n",
        "  print(\"r2_score:\", r2s)\n",
        "  \n",
        "calc_metrics(y_val, pred1)"
      ],
      "metadata": {
        "colab": {
          "base_uri": "https://localhost:8080/"
        },
        "id": "QsEteGmelYHw",
        "outputId": "c4676888-469e-4f8d-be61-d7db3e56be80"
      },
      "execution_count": 46,
      "outputs": [
        {
          "output_type": "stream",
          "name": "stdout",
          "text": [
            "MSE: 25.393099195259296\n",
            "RMSE: 5.039156595627814\n",
            "r2_score: 0.9996022522928502\n"
          ]
        }
      ]
    },
    {
      "cell_type": "markdown",
      "source": [
        "Linear regression was acceptable but let's go into regularized linear models(Ridge/Lasso regression)"
      ],
      "metadata": {
        "id": "ScLGZDGM6WPl"
      }
    },
    {
      "cell_type": "code",
      "source": [
        "la = Lasso().fit(x_train, y_train)\n",
        "ri = Ridge().fit(x_train, y_train)\n",
        "\n",
        "la_pred = la.predict(x_val)\n",
        "ri_pred = ri.predict(x_val)"
      ],
      "metadata": {
        "id": "c6NChUva6xnH"
      },
      "execution_count": null,
      "outputs": []
    },
    {
      "cell_type": "code",
      "source": [
        "calc_metrics(y_val, la_pred)\n",
        "\n",
        "# We can see that the rmse value for Lasso is worse than Ridge/Linear regression models"
      ],
      "metadata": {
        "colab": {
          "base_uri": "https://localhost:8080/"
        },
        "id": "azF6F4oV7vMk",
        "outputId": "107e9fd1-d858-4638-8ffa-23dcef6b43ca"
      },
      "execution_count": 51,
      "outputs": [
        {
          "output_type": "stream",
          "name": "stdout",
          "text": [
            "MSE: 51.98900959573848\n",
            "RMSE: 7.210340463233236\n",
            "r2_score: 0.9991856642151205\n"
          ]
        }
      ]
    },
    {
      "cell_type": "code",
      "source": [
        "calc_metrics(y_val, ri_pred)\n",
        "\n",
        "# This is less prone to overfitting"
      ],
      "metadata": {
        "colab": {
          "base_uri": "https://localhost:8080/"
        },
        "id": "N6RaaAI-71dP",
        "outputId": "84f3634a-500f-4382-e8e5-7d0eabf3a1e0"
      },
      "execution_count": 52,
      "outputs": [
        {
          "output_type": "stream",
          "name": "stdout",
          "text": [
            "MSE: 25.39327323284839\n",
            "RMSE: 5.039173864121816\n",
            "r2_score: 0.9996022495667926\n"
          ]
        }
      ]
    },
    {
      "cell_type": "code",
      "source": [
        "# We can also use SVM although it would be better with large number of features\n",
        "svr = SVR(C=10, gamma=0.01, kernel='rbf')\n",
        "svr.fit(x_train, y_train)\n",
        "svr_pred = svr.predict(x_val)\n",
        "svr_pred"
      ],
      "metadata": {
        "colab": {
          "base_uri": "https://localhost:8080/"
        },
        "id": "yjofGrfO8QmC",
        "outputId": "568d9734-6ddb-4916-c529-06d9017b2665"
      },
      "execution_count": 60,
      "outputs": [
        {
          "output_type": "execute_result",
          "data": {
            "text/plain": [
              "array([1306.04766994, 1306.36945862, 1311.0733729 , 1272.49530585,\n",
              "       1306.06333945, 1306.04766996, 1298.75437827, 1277.72499256,\n",
              "       1306.04766994, 1310.3239126 , 1291.3434241 , 1303.84743959,\n",
              "       1306.04766994, 1306.04766994, 1305.32318598, 1306.04640977,\n",
              "       1321.52034013, 1306.04766994, 1304.69892203, 1305.81710871,\n",
              "       1316.09196968, 1303.66758553, 1290.83640092, 1306.04766994,\n",
              "       1310.32985716, 1313.3167011 , 1306.04772548, 1302.01847575,\n",
              "       1297.93691604, 1302.35957115, 1315.15976852, 1306.04766994,\n",
              "       1304.99754838, 1306.07844626, 1292.39678432, 1306.04766994,\n",
              "       1313.73429175, 1302.06088155, 1304.55912282, 1327.14854506,\n",
              "       1235.17514236, 1296.9927051 , 1306.04766994, 1306.04863977,\n",
              "       1305.98135463, 1306.08503396, 1301.85995869, 1310.52534295,\n",
              "       1310.00337597, 1306.04766994, 1296.91188209, 1291.78865974,\n",
              "       1306.04775091, 1309.49893378, 1306.05984987, 1306.04766994,\n",
              "       1294.70263436, 1306.04431809, 1305.97910767, 1302.01637311,\n",
              "       1312.28118165, 1306.04767863, 1300.09595438, 1305.84874899,\n",
              "       1303.71299966, 1306.04766994, 1306.04766994, 1292.79477911,\n",
              "       1306.52646084, 1305.98121493, 1286.32271081, 1277.67625252,\n",
              "       1306.04766994, 1260.12461687, 1260.93363967, 1299.23345792,\n",
              "       1323.48834523, 1306.04766994, 1306.00273275, 1306.05025601,\n",
              "       1257.09506589, 1297.22606709, 1306.04766994, 1282.70422406,\n",
              "       1293.0826329 , 1306.0477299 , 1306.04766995, 1319.97275737,\n",
              "       1306.04766994, 1303.96304416, 1289.47600873, 1306.04663221,\n",
              "       1306.77630018, 1306.04766992, 1330.04473993, 1299.93454833,\n",
              "       1310.11690186, 1303.82117951, 1297.32641692, 1315.73240698,\n",
              "       1321.34752502, 1304.51011628, 1306.04766994, 1290.75491583,\n",
              "       1314.7491583 , 1285.91155929, 1311.56161702, 1306.04779344,\n",
              "       1306.04766994, 1311.94869587, 1319.63994656, 1309.39694993,\n",
              "       1298.47965546, 1306.19240847, 1294.68417783, 1311.16930185,\n",
              "       1230.39179491, 1306.04767037, 1306.04766994, 1305.98472674,\n",
              "       1297.50033677, 1306.75680201, 1306.04766994, 1306.37342567,\n",
              "       1300.0607586 , 1259.34795366, 1307.58023716, 1278.09349979,\n",
              "       1276.39910568, 1307.76142363, 1271.72840365, 1254.21632204,\n",
              "       1258.29912193, 1306.54189732, 1304.63108641, 1317.40764047,\n",
              "       1306.04863133, 1307.32160175, 1306.56390695, 1305.68706401,\n",
              "       1306.14721767, 1306.04766994, 1305.45496648, 1288.42489355,\n",
              "       1308.9011356 , 1305.54880236, 1306.04766994, 1295.93534662,\n",
              "       1306.49344315, 1306.04766994, 1281.69018334, 1306.06056698,\n",
              "       1306.04766994, 1306.04766994, 1291.79547415, 1257.68956121,\n",
              "       1306.04766994, 1302.53090135, 1306.04766994, 1307.83322431,\n",
              "       1292.57252717, 1306.04766994, 1299.166155  , 1306.04766994,\n",
              "       1260.43537935, 1328.06441791, 1307.45172943, 1309.07791876,\n",
              "       1306.33317059, 1306.04766994, 1294.77930766, 1298.86136414,\n",
              "       1305.2628549 , 1306.04766994, 1310.63487299, 1306.04766994,\n",
              "       1305.01483673, 1306.72309615, 1306.04766994, 1321.04160668,\n",
              "       1306.02991697, 1306.04767008, 1310.22739285, 1310.70811983,\n",
              "       1279.82889663, 1306.04766994, 1306.04766994, 1306.16783804,\n",
              "       1293.07864538, 1307.40986933, 1306.25333601, 1306.23815617,\n",
              "       1306.04769522, 1317.16155157, 1306.04766994, 1304.86424036,\n",
              "       1278.06258567, 1306.04931081, 1306.04766994, 1292.66355493,\n",
              "       1287.43341441, 1306.04766994, 1306.7331034 , 1295.3897922 ,\n",
              "       1291.92767223, 1304.86057163, 1306.04766994, 1306.33762551,\n",
              "       1306.69179602, 1306.04766994, 1301.00081667, 1306.02244924,\n",
              "       1259.96913004, 1306.04766994, 1248.66932737, 1306.18865128,\n",
              "       1306.04766994, 1301.66375323, 1293.18758575, 1304.05920883,\n",
              "       1306.04766994, 1289.81036932, 1303.69993273, 1307.48856472,\n",
              "       1316.25877915, 1306.04766994, 1275.98694864, 1301.46602569,\n",
              "       1274.97971226, 1293.33887405, 1306.04766994, 1313.88124771,\n",
              "       1312.99906041, 1299.14325595, 1305.09215265, 1306.04592547,\n",
              "       1305.72778815, 1296.80283314, 1306.04766979, 1282.33021156,\n",
              "       1306.04762484, 1328.85324037, 1305.64783294, 1307.59789166,\n",
              "       1306.04766994, 1310.03109131, 1303.76522226, 1310.47711321,\n",
              "       1306.04766994, 1327.40184891, 1306.04696644, 1306.0378857 ,\n",
              "       1293.98937957, 1307.07819027, 1306.24302715, 1304.17004885,\n",
              "       1306.05586413, 1310.81367626, 1307.80840757, 1297.68378306,\n",
              "       1305.11681555, 1306.05508251, 1306.04766994, 1252.86658854,\n",
              "       1255.58732641, 1319.37567744, 1306.04766994, 1301.96355149,\n",
              "       1307.87838312, 1311.55620723, 1306.04878982, 1228.93877275,\n",
              "       1256.49607016, 1306.04766994, 1300.20466299, 1296.01620121,\n",
              "       1292.7535887 , 1300.40883973, 1314.84910927, 1313.96805865,\n",
              "       1306.04766994, 1293.96168549, 1306.02316995, 1306.04774251,\n",
              "       1301.61753213, 1306.04766994, 1305.73923768, 1294.72429032,\n",
              "       1306.04766994, 1253.93499912, 1305.97466428, 1323.98031575,\n",
              "       1306.04766994, 1285.96011085, 1306.05460037, 1306.39829079,\n",
              "       1306.04766994, 1296.00167193, 1303.75294905, 1308.8719357 ,\n",
              "       1306.61409417, 1280.26729327, 1265.76945473, 1279.73396561,\n",
              "       1306.12248821, 1306.04767328, 1306.05769447, 1305.39933273,\n",
              "       1306.65916193, 1306.04766994, 1306.04806683, 1306.04766994,\n",
              "       1306.0477111 , 1298.16308983, 1309.04764362, 1308.36432435,\n",
              "       1306.27141617, 1308.17008477, 1279.23609189, 1277.0431516 ,\n",
              "       1298.93829793, 1306.04766994, 1325.85822922, 1302.39241802,\n",
              "       1306.04766994, 1306.04766994, 1306.04766994, 1306.04766994,\n",
              "       1306.02819606, 1306.04872783, 1324.22515317, 1308.62021526,\n",
              "       1311.71103052, 1306.04766994, 1306.04514291, 1288.70073498,\n",
              "       1306.04853116, 1305.63248374, 1305.93271744, 1304.4852655 ,\n",
              "       1312.6092045 , 1300.62928224, 1228.51182058, 1306.04789425,\n",
              "       1255.44056823, 1270.59755319, 1306.06828374, 1242.56188933,\n",
              "       1286.4748786 , 1255.21316244, 1293.22343124, 1307.43341476,\n",
              "       1293.54002366])"
            ]
          },
          "metadata": {},
          "execution_count": 60
        }
      ]
    },
    {
      "cell_type": "code",
      "source": [
        "calc_metrics(y_val, svr_pred)\n",
        "\n",
        "# We get extremely bad rmse value as the dataset has very less number of features so we use Linear/Ridge regression for this"
      ],
      "metadata": {
        "colab": {
          "base_uri": "https://localhost:8080/"
        },
        "id": "vJyVnCdkAkGd",
        "outputId": "09cbfbbc-0b12-4ddf-9843-6e169f345e24"
      },
      "execution_count": 61,
      "outputs": [
        {
          "output_type": "stream",
          "name": "stdout",
          "text": [
            "MSE: 71769.65766563555\n",
            "RMSE: 267.8985958635012\n",
            "r2_score: -0.12417222332450151\n"
          ]
        }
      ]
    }
  ]
}